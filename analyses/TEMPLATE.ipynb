{
 "cells": [
  {
   "cell_type": "markdown",
   "metadata": {},
   "source": [
    "<img src=\"img/TJI_logo_whitebg_440x220.jpg\" alt=\"drawing\" style=\"width: 220px;float: right\"/>\n",
    "\n",
    "# Analysis: Short Title\n",
    "---\n",
    "\n",
    "## Overview\n",
    "\n",
    "One or two sentences describing the purpose of this analysis.\n",
    "\n",
    "## Summary of findings\n",
    "* Summarize your analysis with simple items listed here.\n",
    "* Readers will still scroll to see your charts and code.\n",
    "\n",
    "## Datasets used\n",
    "* List all data.world datasets used in your analysis, like so:\n",
    "* `tji/officer-involved-shooting/shot_civilians`\n",
    "\n",
    "##### Author: Your Name (your@email.com)\n",
    "---"
   ]
  },
  {
   "cell_type": "markdown",
   "metadata": {},
   "source": [
    "## [ Sections should look like this, in square brackets, for easy finding ]"
   ]
  },
  {
   "cell_type": "code",
   "execution_count": 1,
   "metadata": {},
   "outputs": [],
   "source": [
    "import matplotlib.pyplot as plt\n",
    "import numpy as np\n",
    "import pandas as pd\n",
    "import seaborn as sns\n",
    "\n",
    "% matplotlib inline"
   ]
  },
  {
   "cell_type": "markdown",
   "metadata": {},
   "source": [
    "## [ What is the luckiest number? ]"
   ]
  },
  {
   "cell_type": "code",
   "execution_count": 2,
   "metadata": {
    "collapsed": true
   },
   "outputs": [],
   "source": [
    "nums = np.random.randint(1, 10, size=100)"
   ]
  },
  {
   "cell_type": "code",
   "execution_count": 3,
   "metadata": {},
   "outputs": [
    {
     "data": {
      "text/plain": [
       "Text(0,0.5,\"Don't forget me!\")"
      ]
     },
     "execution_count": 3,
     "metadata": {},
     "output_type": "execute_result"
    },
    {
     "data": {
      "image/png": "[encoded data removed]",
      "text/plain": [
       "<Figure size 432x288 with 1 Axes>"
      ]
     },
     "metadata": {},
     "output_type": "display_data"
    }
   ],
   "source": [
    "fig, ax = plt.subplots()\n",
    "pd.Series(nums).value_counts().sort_index().plot(kind='bar')\n",
    "ax.set_title('Be sure to label your charts well!', fontsize=18)\n",
    "ax.set_xlabel('And your axes too', fontsize=14)\n",
    "ax.set_ylabel('Don\\'t forget me!', fontsize=14)"
   ]
  },
  {
   "cell_type": "markdown",
   "metadata": {},
   "source": [
    "# -- NOTES --\n",
    "* Before committing an analysis, run it afresh `[Kernel]` > `[Restart & Run All]`. It should run cleanly from top to bottom.\n",
    "* If you need to install any new packages, add them to requirements.txt. Suggest using a virtual env to be sure this will work for others."
   ]
  },
  {
   "cell_type": "code",
   "execution_count": null,
   "metadata": {
    "collapsed": true
   },
   "outputs": [],
   "source": []
  }
 ],
 "metadata": {
  "kernelspec": {
   "display_name": "tji-analysis",
   "language": "python",
   "name": "tji-analysis"
  },
  "language_info": {
   "codemirror_mode": {
    "name": "ipython",
    "version": 3
   },
   "file_extension": ".py",
   "mimetype": "text/x-python",
   "name": "python",
   "nbconvert_exporter": "python",
   "pygments_lexer": "ipython3",
   "version": "3.6.1"
  }
 },
 "nbformat": 4,
 "nbformat_minor": 2
}
