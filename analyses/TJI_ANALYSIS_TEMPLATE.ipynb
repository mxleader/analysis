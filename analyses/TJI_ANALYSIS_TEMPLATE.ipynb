{
 "cells": [
  {
   "cell_type": "markdown",
   "metadata": {},
   "source": [
    "<img src=\"img/TJI_logo_whitebg_440x220.jpg\" alt=\"drawing\" style=\"width: 220px;float: right\"/>\n",
    "\n",
    "# Analysis: Short Title\n",
    "---\n",
    "\n",
    "## Overview\n",
    "\n",
    "One or two sentences describing the purpose of this analysis.\n",
    "\n",
    "## Summary of findings\n",
    "* Summarize your analysis with simple items listed here.\n",
    "* Readers will still scroll to see your charts and code.\n",
    "\n",
    "## Datasets used\n",
    "* List all data.world datasets used in your analysis, like so:\n",
    "* `tji/officer-involved-shooting/shot_civilians`\n",
    "\n",
    "##### Author: Your Name (your@email.com)\n",
    "---"
   ]
  },
  {
   "cell_type": "markdown",
   "metadata": {},
   "source": [
    "## [ Begin with imports as usual ]"
   ]
  },
  {
   "cell_type": "code",
   "execution_count": 1,
   "metadata": {},
   "outputs": [
    {
     "name": "stdout",
     "output_type": "stream",
     "text": [
      "Everett Wetchler 2018-05-27 18:35:47 CDT\n",
      "\n",
      "numpy 1.14.3\n",
      "pandas 0.20.1\n",
      "matplotlib 2.2.0\n",
      "seaborn 0.7.1\n",
      "watermark 1.5.0\n"
     ]
    }
   ],
   "source": [
    "# For example...\n",
    "import matplotlib.pyplot as plt\n",
    "import numpy as np\n",
    "import pandas as pd\n",
    "import seaborn as sns\n",
    "\n",
    "%matplotlib inline\n",
    "\n",
    "# Strongly recommend using the 'Watermark' extension\n",
    "# to print version/system information\n",
    "# Flags:\n",
    "# -a [author] -d (date) -t (time) -z (timezone) -r (repo)\n",
    "# -g (git hash) -w (watermark version) -p [packages] (package info)\n",
    "%load_ext watermark\n",
    "%watermark -a 'Everett Wetchler' -d -t -z -w -p numpy,pandas,matplotlib,seaborn"
   ]
  },
  {
   "cell_type": "markdown",
   "metadata": {},
   "source": [
    "## [ THEN standardize your style using our common library ]"
   ]
  },
  {
   "cell_type": "code",
   "execution_count": 2,
   "metadata": {
    "collapsed": true
   },
   "outputs": [],
   "source": [
    "from lib.style import *"
   ]
  },
  {
   "cell_type": "markdown",
   "metadata": {},
   "source": [
    "## [ Put section headings in markdown and square brackets, like these ]"
   ]
  },
  {
   "cell_type": "code",
   "execution_count": 3,
   "metadata": {},
   "outputs": [
    {
     "data": {
      "text/plain": [
       "Text(0,0.5,\"Don't forget me!\")"
      ]
     },
     "execution_count": 3,
     "metadata": {},
     "output_type": "execute_result"
    },
    {
     "data": {
      "image/png": "[encoded data removed]",
      "text/plain": [
       "<Figure size 648x432 with 1 Axes>"
      ]
     },
     "metadata": {},
     "output_type": "display_data"
    }
   ],
   "source": [
    "nums = np.random.randn(10000)\n",
    "\n",
    "fig, ax = plt.subplots()\n",
    "pd.Series(nums).hist(ax=ax, bins=np.arange(-5, 5.01, .25))\n",
    "ax.set_title('Be sure to label your charts well!')\n",
    "ax.set_xlabel('And your axes too')\n",
    "ax.set_ylabel('Don\\'t forget me!')"
   ]
  },
  {
   "cell_type": "markdown",
   "metadata": {},
   "source": [
    "# [ And finally... ]\n",
    "* Before committing an analysis to github, run it afresh `[Kernel]` > `[Restart & Run All]`. It should run cleanly from top to bottom.\n",
    "* If you need to install any new packages, add them to requirements.txt. We strongly suggest using a virtual env to be sure everyone is using the same version of all libraries, and our analyses are fully replicable."
   ]
  },
  {
   "cell_type": "code",
   "execution_count": null,
   "metadata": {
    "collapsed": true
   },
   "outputs": [],
   "source": []
  }
 ],
 "metadata": {
  "kernelspec": {
   "display_name": "tji-analysis",
   "language": "python",
   "name": "tji-analysis"
  },
  "language_info": {
   "codemirror_mode": {
    "name": "ipython",
    "version": 3
   },
   "file_extension": ".py",
   "mimetype": "text/x-python",
   "name": "python",
   "nbconvert_exporter": "python",
   "pygments_lexer": "ipython3",
   "version": "3.6.1"
  }
 },
 "nbformat": 4,
 "nbformat_minor": 2
}
